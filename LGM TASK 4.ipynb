{
 "cells": [
  {
   "cell_type": "markdown",
   "id": "c2b36d29",
   "metadata": {},
   "source": [
    "# LGM DATA SCIENCE INTERNSHIP\n",
    "## By Asrithavalli\n",
    "\n",
    "## Beginner level Task 4:\n",
    "### Image to Pencil Sketch With Python"
   ]
  },
  {
   "cell_type": "code",
   "execution_count": 1,
   "id": "f1cc0472",
   "metadata": {},
   "outputs": [
    {
     "name": "stdout",
     "output_type": "stream",
     "text": [
      "Requirement already satisfied: opencv-python in c:\\programdata\\anaconda3\\lib\\site-packages (4.5.5.64)\n",
      "Requirement already satisfied: numpy>=1.19.3 in c:\\programdata\\anaconda3\\lib\\site-packages (from opencv-python) (1.20.3)\n"
     ]
    }
   ],
   "source": [
    "!pip install opencv-python"
   ]
  },
  {
   "cell_type": "code",
   "execution_count": 2,
   "id": "9cf53244",
   "metadata": {},
   "outputs": [],
   "source": [
    "import cv2"
   ]
  },
  {
   "cell_type": "code",
   "execution_count": 3,
   "id": "38b24fb8",
   "metadata": {},
   "outputs": [],
   "source": [
    "image=cv2.imread(\"teddy.jpg\")"
   ]
  },
  {
   "cell_type": "code",
   "execution_count": 4,
   "id": "e64774ed",
   "metadata": {},
   "outputs": [],
   "source": [
    "gray_image=cv2.cvtColor(image,cv2.COLOR_BGR2GRAY)"
   ]
  },
  {
   "cell_type": "code",
   "execution_count": 5,
   "id": "00defce8",
   "metadata": {},
   "outputs": [],
   "source": [
    "inverted=255-gray_image"
   ]
  },
  {
   "cell_type": "code",
   "execution_count": 7,
   "id": "5b54c791",
   "metadata": {},
   "outputs": [],
   "source": [
    "blur=cv2.GaussianBlur(inverted,(25,25),0)"
   ]
  },
  {
   "cell_type": "code",
   "execution_count": 8,
   "id": "9b69cf41",
   "metadata": {},
   "outputs": [],
   "source": [
    "invertedblur=200-blur"
   ]
  },
  {
   "cell_type": "code",
   "execution_count": 9,
   "id": "de465430",
   "metadata": {},
   "outputs": [],
   "source": [
    "sketch=cv2.divide(gray_image,invertedblur,scale=256.0)"
   ]
  },
  {
   "cell_type": "code",
   "execution_count": 10,
   "id": "f66e05a3",
   "metadata": {},
   "outputs": [
    {
     "data": {
      "text/plain": [
       "True"
      ]
     },
     "execution_count": 10,
     "metadata": {},
     "output_type": "execute_result"
    }
   ],
   "source": [
    "cv2.imwrite(\"teddy.jpg\",sketch)"
   ]
  },
  {
   "cell_type": "code",
   "execution_count": 11,
   "id": "7965b37c",
   "metadata": {},
   "outputs": [],
   "source": [
    "cv2.imshow(\"original\",image)\n",
    "cv2.imshow(\"Sketch\",sketch)"
   ]
  },
  {
   "cell_type": "code",
   "execution_count": null,
   "id": "f8186527",
   "metadata": {},
   "outputs": [],
   "source": [
    "cv2.waitKey(0)"
   ]
  },
  {
   "cell_type": "code",
   "execution_count": null,
   "id": "0f6144d1",
   "metadata": {},
   "outputs": [],
   "source": []
  }
 ],
 "metadata": {
  "kernelspec": {
   "display_name": "Python 3 (ipykernel)",
   "language": "python",
   "name": "python3"
  },
  "language_info": {
   "codemirror_mode": {
    "name": "ipython",
    "version": 3
   },
   "file_extension": ".py",
   "mimetype": "text/x-python",
   "name": "python",
   "nbconvert_exporter": "python",
   "pygments_lexer": "ipython3",
   "version": "3.9.7"
  }
 },
 "nbformat": 4,
 "nbformat_minor": 5
}
