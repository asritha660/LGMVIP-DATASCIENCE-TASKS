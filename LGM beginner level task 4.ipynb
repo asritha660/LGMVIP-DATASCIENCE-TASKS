{
 "cells": [
  {
   "cell_type": "code",
   "execution_count": 1,
   "id": "c6b32d62",
   "metadata": {},
   "outputs": [
    {
     "name": "stdout",
     "output_type": "stream",
     "text": [
      "Requirement already satisfied: opencv-python in c:\\programdata\\anaconda3\\lib\\site-packages (4.5.5.64)\n",
      "Requirement already satisfied: numpy>=1.19.3 in c:\\programdata\\anaconda3\\lib\\site-packages (from opencv-python) (1.20.3)\n"
     ]
    }
   ],
   "source": [
    "!pip install opencv-python"
   ]
  },
  {
   "cell_type": "code",
   "execution_count": 2,
   "id": "40946e95",
   "metadata": {},
   "outputs": [],
   "source": [
    "import cv2"
   ]
  },
  {
   "cell_type": "code",
   "execution_count": 3,
   "id": "b2ff776e",
   "metadata": {},
   "outputs": [],
   "source": [
    "image=cv2.imread(\"teddy.jpg\")"
   ]
  },
  {
   "cell_type": "code",
   "execution_count": 4,
   "id": "6aca1a1d",
   "metadata": {},
   "outputs": [],
   "source": [
    "gray_image=cv2.cvtColor(image,cv2.COLOR_BGR2GRAY)"
   ]
  },
  {
   "cell_type": "code",
   "execution_count": 5,
   "id": "f330c971",
   "metadata": {},
   "outputs": [],
   "source": [
    "inverted=255-gray_image"
   ]
  },
  {
   "cell_type": "code",
   "execution_count": 7,
   "id": "a100a7c7",
   "metadata": {},
   "outputs": [],
   "source": [
    "blur=cv2.GaussianBlur(inverted,(25,25),0)"
   ]
  },
  {
   "cell_type": "code",
   "execution_count": 8,
   "id": "83ca6852",
   "metadata": {},
   "outputs": [],
   "source": [
    "invertedblur=200-blur"
   ]
  },
  {
   "cell_type": "code",
   "execution_count": 9,
   "id": "881e8197",
   "metadata": {},
   "outputs": [],
   "source": [
    "sketch=cv2.divide(gray_image,invertedblur,scale=256.0)"
   ]
  },
  {
   "cell_type": "code",
   "execution_count": 10,
   "id": "6b5538d4",
   "metadata": {},
   "outputs": [
    {
     "data": {
      "text/plain": [
       "True"
      ]
     },
     "execution_count": 10,
     "metadata": {},
     "output_type": "execute_result"
    }
   ],
   "source": [
    "cv2.imwrite(\"teddy.jpg\",sketch)"
   ]
  },
  {
   "cell_type": "code",
   "execution_count": 11,
   "id": "6f219b0d",
   "metadata": {},
   "outputs": [],
   "source": [
    "cv2.imshow(\"original\",image)\n",
    "cv2.imshow(\"Sketch\",sketch)"
   ]
  },
  {
   "cell_type": "code",
   "execution_count": null,
   "id": "47cce670",
   "metadata": {},
   "outputs": [],
   "source": [
    "cv2.waitKey(0)"
   ]
  },
  {
   "cell_type": "code",
   "execution_count": null,
   "id": "cf0e8d5e",
   "metadata": {},
   "outputs": [],
   "source": []
  }
 ],
 "metadata": {
  "kernelspec": {
   "display_name": "Python 3 (ipykernel)",
   "language": "python",
   "name": "python3"
  },
  "language_info": {
   "codemirror_mode": {
    "name": "ipython",
    "version": 3
   },
   "file_extension": ".py",
   "mimetype": "text/x-python",
   "name": "python",
   "nbconvert_exporter": "python",
   "pygments_lexer": "ipython3",
   "version": "3.9.7"
  }
 },
 "nbformat": 4,
 "nbformat_minor": 5
}
